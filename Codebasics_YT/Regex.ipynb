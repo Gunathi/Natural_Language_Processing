{
 "cells": [
  {
   "cell_type": "code",
   "execution_count": 1,
   "id": "04f9bbe9",
   "metadata": {},
   "outputs": [],
   "source": [
    "import re"
   ]
  },
  {
   "cell_type": "code",
   "execution_count": 4,
   "id": "af188ef3",
   "metadata": {},
   "outputs": [
    {
     "data": {
      "text/plain": [
       "['412889912']"
      ]
     },
     "execution_count": 4,
     "metadata": {},
     "output_type": "execute_result"
    }
   ],
   "source": [
    "chat1 = 'codebasics: Hello, I am having an issue with my order # 412889912'\n",
    "\n",
    "pattern = 'order.\\D*(\\d*)'\n",
    "matches = re.findall(pattern, chat1)\n",
    "matches"
   ]
  },
  {
   "cell_type": "code",
   "execution_count": 5,
   "id": "4b39572f",
   "metadata": {},
   "outputs": [
    {
     "data": {
      "text/plain": [
       "['412889912']"
      ]
     },
     "execution_count": 5,
     "metadata": {},
     "output_type": "execute_result"
    }
   ],
   "source": [
    "#There are many ways to do the same thing. \n",
    "\n",
    "pattern = 'order[^\\d]*(\\d*)'\n",
    "matches = re.findall(pattern, chat1)\n",
    "matches"
   ]
  },
  {
   "cell_type": "code",
   "execution_count": 6,
   "id": "3aca275a",
   "metadata": {},
   "outputs": [
    {
     "data": {
      "text/plain": [
       "['412889912']"
      ]
     },
     "execution_count": 6,
     "metadata": {},
     "output_type": "execute_result"
    }
   ],
   "source": [
    "chat2='codebasics: I have a problem with my order number 412889912'\n",
    "\n",
    "pattern = 'order[^\\d]*(\\d*)'\n",
    "matches = re.findall(pattern, chat1)\n",
    "matches"
   ]
  },
  {
   "cell_type": "code",
   "execution_count": 7,
   "id": "41577ee5",
   "metadata": {},
   "outputs": [
    {
     "data": {
      "text/plain": [
       "['412889912']"
      ]
     },
     "execution_count": 7,
     "metadata": {},
     "output_type": "execute_result"
    }
   ],
   "source": [
    "chat3='codebasics: My order 412889912 is having an issue, I was charged 300$ when online it says 280$'\n",
    "\n",
    "pattern = 'order[^\\d]*(\\d*)'\n",
    "matches = re.findall(pattern, chat1)\n",
    "matches"
   ]
  },
  {
   "cell_type": "code",
   "execution_count": 8,
   "id": "6fef0b42",
   "metadata": {},
   "outputs": [],
   "source": [
    "#We can define a function to get matches using regex\n",
    "\n",
    "def get_matches(pattern, text):\n",
    "    matches = re.findall(pattern, text)\n",
    "    \n",
    "    if matches:\n",
    "        return matches[0]"
   ]
  },
  {
   "cell_type": "code",
   "execution_count": 9,
   "id": "5291a4e9",
   "metadata": {},
   "outputs": [
    {
     "data": {
      "text/plain": [
       "'412889912'"
      ]
     },
     "execution_count": 9,
     "metadata": {},
     "output_type": "execute_result"
    }
   ],
   "source": [
    "get_matches('order[^\\d]*(\\d*)', chat3)"
   ]
  },
  {
   "cell_type": "markdown",
   "id": "f09dcc2b",
   "metadata": {},
   "source": [
    "### Getting E-mail or phone"
   ]
  },
  {
   "cell_type": "code",
   "execution_count": 15,
   "id": "a79cac4a",
   "metadata": {},
   "outputs": [],
   "source": [
    "chat1 = 'codebasics: you ask lot of questions 😠  1235678912, abc@xyz.com'\n",
    "chat2 = 'codebasics: here it is: (123)-567-8912, abc123@xyz.com'\n",
    "chat3 = 'codebasics: yes, phone: 1235678912 email: def456@xyz.com'"
   ]
  },
  {
   "cell_type": "code",
   "execution_count": 16,
   "id": "8176bfd4",
   "metadata": {},
   "outputs": [
    {
     "data": {
      "text/plain": [
       "'abc@xyz.com'"
      ]
     },
     "execution_count": 16,
     "metadata": {},
     "output_type": "execute_result"
    }
   ],
   "source": [
    "pattern = '[a-zA-Z0-9]*@[a-zA-Z0-9]*\\.[a-zA-Z]*'\n",
    "\n",
    "get_matches(pattern, chat1)\n"
   ]
  },
  {
   "cell_type": "code",
   "execution_count": 17,
   "id": "2a94e617",
   "metadata": {},
   "outputs": [
    {
     "data": {
      "text/plain": [
       "'abc123@xyz.com'"
      ]
     },
     "execution_count": 17,
     "metadata": {},
     "output_type": "execute_result"
    }
   ],
   "source": [
    "get_matches(pattern, chat2)"
   ]
  },
  {
   "cell_type": "code",
   "execution_count": 18,
   "id": "cb2c9aca",
   "metadata": {},
   "outputs": [
    {
     "data": {
      "text/plain": [
       "'def456@xyz.com'"
      ]
     },
     "execution_count": 18,
     "metadata": {},
     "output_type": "execute_result"
    }
   ],
   "source": [
    "get_matches(pattern, chat3)"
   ]
  },
  {
   "cell_type": "markdown",
   "id": "76a6e25e",
   "metadata": {},
   "source": [
    "#### Phone numbers"
   ]
  },
  {
   "cell_type": "code",
   "execution_count": 19,
   "id": "5129572c",
   "metadata": {},
   "outputs": [
    {
     "data": {
      "text/plain": [
       "'1235678912'"
      ]
     },
     "execution_count": 19,
     "metadata": {},
     "output_type": "execute_result"
    }
   ],
   "source": [
    "pattern = '\\d{10}|\\(\\d{3}\\)-\\d{3}-\\d{4}'\n",
    "\n",
    "get_matches(pattern, chat1)"
   ]
  },
  {
   "cell_type": "code",
   "execution_count": 20,
   "id": "9cd3975a",
   "metadata": {},
   "outputs": [
    {
     "data": {
      "text/plain": [
       "'(123)-567-8912'"
      ]
     },
     "execution_count": 20,
     "metadata": {},
     "output_type": "execute_result"
    }
   ],
   "source": [
    "get_matches(pattern, chat2)"
   ]
  },
  {
   "cell_type": "code",
   "execution_count": 21,
   "id": "47a454cd",
   "metadata": {},
   "outputs": [
    {
     "data": {
      "text/plain": [
       "'1235678912'"
      ]
     },
     "execution_count": 21,
     "metadata": {},
     "output_type": "execute_result"
    }
   ],
   "source": [
    "get_matches(pattern, chat3)"
   ]
  },
  {
   "cell_type": "markdown",
   "id": "d5791f01",
   "metadata": {},
   "source": [
    "## Regex for information extraction"
   ]
  },
  {
   "cell_type": "code",
   "execution_count": 22,
   "id": "a9be0fcf",
   "metadata": {},
   "outputs": [],
   "source": [
    "text = '''Born\tKim Tae-hyung\n",
    "December 30, 1995 (age 27)\n",
    "Daegu, South Korea\n",
    "Education\tKorean Arts High School\n",
    "Global Cyber University\n",
    "Occupations\t\n",
    "Singersongwriter\n",
    "Honours\t Hwagwan Order of Cultural Merit (2018)\n",
    "Musical career\n",
    "Genres\t\n",
    "R&Bneo soulindie popK-pop\n",
    "Instrument(s)\tVocals\n",
    "Years active\t2013–present\n",
    "Labels\tBig Hit\n",
    "Member of\tBTS'''"
   ]
  },
  {
   "cell_type": "code",
   "execution_count": 27,
   "id": "6c3a65b2",
   "metadata": {},
   "outputs": [
    {
     "data": {
      "text/plain": [
       "'Kim Tae-hyung'"
      ]
     },
     "execution_count": 27,
     "metadata": {},
     "output_type": "execute_result"
    }
   ],
   "source": [
    "pattern = 'Born(.*)'\n",
    "\n",
    "get_matches(pattern, text).strip()"
   ]
  },
  {
   "cell_type": "code",
   "execution_count": 28,
   "id": "2760176f",
   "metadata": {},
   "outputs": [
    {
     "data": {
      "text/plain": [
       "'December 30, 1995 (age 27)'"
      ]
     },
     "execution_count": 28,
     "metadata": {},
     "output_type": "execute_result"
    }
   ],
   "source": [
    "pattern = 'Born.*\\n(.*)'\n",
    "\n",
    "get_matches(pattern, text)"
   ]
  },
  {
   "cell_type": "code",
   "execution_count": 38,
   "id": "e7a4259b",
   "metadata": {},
   "outputs": [],
   "source": [
    "def extract_information(text):\n",
    "    name = get_matches('Born(.*)', text)\n",
    "    age = get_matches('\\(age (\\d*)\\)', text)\n",
    "    bday = get_matches('Born.*\\n(.*)\\(', text)\n",
    "    homeTown = get_matches('Born.*\\n.*\\n(.*)',text)\n",
    "    member_of = get_matches('Member of(.*)', text)\n",
    "    \n",
    "    return {\n",
    "        'name': name.strip(),\n",
    "        'age': int(age),\n",
    "        'BirthDay': bday,\n",
    "        'Home Town': homeTown,\n",
    "        'Member of': member_of.strip()\n",
    "    }"
   ]
  },
  {
   "cell_type": "code",
   "execution_count": 39,
   "id": "90108195",
   "metadata": {},
   "outputs": [
    {
     "data": {
      "text/plain": [
       "{'name': 'Kim Tae-hyung',\n",
       " 'age': 27,\n",
       " 'BirthDay': 'December 30, 1995 ',\n",
       " 'Home Town': 'Daegu, South Korea',\n",
       " 'Member of': 'BTS'}"
      ]
     },
     "execution_count": 39,
     "metadata": {},
     "output_type": "execute_result"
    }
   ],
   "source": [
    "extract_information(text)"
   ]
  },
  {
   "cell_type": "code",
   "execution_count": 40,
   "id": "a85c1e53",
   "metadata": {},
   "outputs": [],
   "source": [
    "text = '''Born\tJeon Jung-kook\n",
    "September 1, 1997 (age 26)\n",
    "Busan, South Korea\n",
    "Education\tSchool of Performing Arts Seoul\n",
    "Global Cyber University\n",
    "Occupation\tSinger\n",
    "Honours\t Hwagwan Order of Cultural Merit (2018)\n",
    "Musical career\n",
    "Genres\t\n",
    "K-popEDM[1]\n",
    "Instrument(s)\tVocals\n",
    "Years active\t2013–present\n",
    "Labels\tBig Hit\n",
    "Member of\tBTS'''"
   ]
  },
  {
   "cell_type": "code",
   "execution_count": 41,
   "id": "0bf4f020",
   "metadata": {},
   "outputs": [
    {
     "data": {
      "text/plain": [
       "{'name': 'Jeon Jung-kook',\n",
       " 'age': 26,\n",
       " 'BirthDay': 'September 1, 1997 ',\n",
       " 'Home Town': 'Busan, South Korea',\n",
       " 'Member of': 'BTS'}"
      ]
     },
     "execution_count": 41,
     "metadata": {},
     "output_type": "execute_result"
    }
   ],
   "source": [
    "extract_information(text)"
   ]
  },
  {
   "cell_type": "code",
   "execution_count": null,
   "id": "94d96416",
   "metadata": {},
   "outputs": [],
   "source": []
  }
 ],
 "metadata": {
  "kernelspec": {
   "display_name": "Python 3 (ipykernel)",
   "language": "python",
   "name": "python3"
  },
  "language_info": {
   "codemirror_mode": {
    "name": "ipython",
    "version": 3
   },
   "file_extension": ".py",
   "mimetype": "text/x-python",
   "name": "python",
   "nbconvert_exporter": "python",
   "pygments_lexer": "ipython3",
   "version": "3.9.12"
  }
 },
 "nbformat": 4,
 "nbformat_minor": 5
}
